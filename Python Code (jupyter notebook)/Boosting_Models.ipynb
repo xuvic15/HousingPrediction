{
 "cells": [
  {
   "cell_type": "markdown",
   "metadata": {},
   "source": [
    "Requires packages: conda install -c conda-forge spyder xgboost catboost lightgbm\n",
    "####  MSIS 522, Data Mining Project, Housing Dataset, Victor Xu\n",
    "#####  Exploratory Analysis, Visualizations, Boosting Models (Adaboost, Gradient Boost, XGBoost, Light Boost, Lasso, Elastic Net, Kernel Ridge)"
   ]
  },
  {
   "cell_type": "code",
   "execution_count": 147,
   "metadata": {},
   "outputs": [],
   "source": [
    "import os\n",
    "import io\n",
    "import warnings\n",
    "\n",
    "import numpy as np\n",
    "import scipy as sp\n",
    "import pandas as pd\n",
    "import sklearn as sk\n",
    "import matplotlib as mpl\n",
    "import matplotlib.pyplot as plt\n",
    "%matplotlib inline\n",
    "import seaborn as sns\n",
    "sns.set()\n",
    "\n",
    "# evaluation metrics\n",
    "from sklearn.metrics import mean_squared_error\n",
    "from sklearn.metrics import r2_score\n",
    "from sklearn.metrics import accuracy_score\n",
    "from sklearn.metrics import roc_auc_score\n",
    "\n",
    "# grid search for model selection\n",
    "from sklearn.model_selection import GridSearchCV\n",
    "\n",
    "# linear regression\n",
    "from sklearn.linear_model import LinearRegression\n",
    "\n",
    "# logistic regression\n",
    "from sklearn.linear_model import LogisticRegression\n",
    "\n",
    "# decision tree\n",
    "from sklearn.tree import DecisionTreeClassifier\n",
    "from sklearn.tree import DecisionTreeRegressor\n",
    "\n",
    "# random forest\n",
    "from sklearn.ensemble import RandomForestClassifier\n",
    "from sklearn.ensemble import RandomForestRegressor\n",
    "\n",
    "# adaboost and gradient boosting\n",
    "from sklearn.ensemble import AdaBoostClassifier\n",
    "from sklearn.ensemble import GradientBoostingClassifier\n",
    "from sklearn.ensemble import GradientBoostingRegressor\n",
    "\n",
    "warnings.simplefilter(action='ignore', category=FutureWarning)"
   ]
  },
  {
   "cell_type": "code",
   "execution_count": 148,
   "metadata": {},
   "outputs": [
    {
     "data": {
      "text/html": [
       "<div>\n",
       "<style scoped>\n",
       "    .dataframe tbody tr th:only-of-type {\n",
       "        vertical-align: middle;\n",
       "    }\n",
       "\n",
       "    .dataframe tbody tr th {\n",
       "        vertical-align: top;\n",
       "    }\n",
       "\n",
       "    .dataframe thead th {\n",
       "        text-align: right;\n",
       "    }\n",
       "</style>\n",
       "<table border=\"1\" class=\"dataframe\">\n",
       "  <thead>\n",
       "    <tr style=\"text-align: right;\">\n",
       "      <th></th>\n",
       "      <th>MSSubClass</th>\n",
       "      <th>MSZoning</th>\n",
       "      <th>LotFrontage</th>\n",
       "      <th>LotArea</th>\n",
       "      <th>LotShape</th>\n",
       "      <th>Neighborhood</th>\n",
       "      <th>BldgType</th>\n",
       "      <th>HouseStyle</th>\n",
       "      <th>OverallQual</th>\n",
       "      <th>OverallCond</th>\n",
       "      <th>...</th>\n",
       "      <th>BedroomAbvGr</th>\n",
       "      <th>KitchenAbvGr</th>\n",
       "      <th>KitchenQual</th>\n",
       "      <th>TotRmsAbvGrd</th>\n",
       "      <th>Fireplaces</th>\n",
       "      <th>GarageCars</th>\n",
       "      <th>PavedDrive</th>\n",
       "      <th>YrSold</th>\n",
       "      <th>SaleCondition</th>\n",
       "      <th>SalePrice</th>\n",
       "    </tr>\n",
       "  </thead>\n",
       "  <tbody>\n",
       "    <tr>\n",
       "      <th>0</th>\n",
       "      <td>60</td>\n",
       "      <td>RL</td>\n",
       "      <td>65.0</td>\n",
       "      <td>8450</td>\n",
       "      <td>Reg</td>\n",
       "      <td>CollgCr</td>\n",
       "      <td>1Fam</td>\n",
       "      <td>2Story</td>\n",
       "      <td>7</td>\n",
       "      <td>5</td>\n",
       "      <td>...</td>\n",
       "      <td>3</td>\n",
       "      <td>1</td>\n",
       "      <td>Gd</td>\n",
       "      <td>8</td>\n",
       "      <td>0</td>\n",
       "      <td>2</td>\n",
       "      <td>Y</td>\n",
       "      <td>2008</td>\n",
       "      <td>Normal</td>\n",
       "      <td>208500</td>\n",
       "    </tr>\n",
       "    <tr>\n",
       "      <th>1</th>\n",
       "      <td>20</td>\n",
       "      <td>RL</td>\n",
       "      <td>80.0</td>\n",
       "      <td>9600</td>\n",
       "      <td>Reg</td>\n",
       "      <td>Veenker</td>\n",
       "      <td>1Fam</td>\n",
       "      <td>1Story</td>\n",
       "      <td>6</td>\n",
       "      <td>8</td>\n",
       "      <td>...</td>\n",
       "      <td>3</td>\n",
       "      <td>1</td>\n",
       "      <td>TA</td>\n",
       "      <td>6</td>\n",
       "      <td>1</td>\n",
       "      <td>2</td>\n",
       "      <td>Y</td>\n",
       "      <td>2007</td>\n",
       "      <td>Normal</td>\n",
       "      <td>181500</td>\n",
       "    </tr>\n",
       "    <tr>\n",
       "      <th>2</th>\n",
       "      <td>60</td>\n",
       "      <td>RL</td>\n",
       "      <td>68.0</td>\n",
       "      <td>11250</td>\n",
       "      <td>IR1</td>\n",
       "      <td>CollgCr</td>\n",
       "      <td>1Fam</td>\n",
       "      <td>2Story</td>\n",
       "      <td>7</td>\n",
       "      <td>5</td>\n",
       "      <td>...</td>\n",
       "      <td>3</td>\n",
       "      <td>1</td>\n",
       "      <td>Gd</td>\n",
       "      <td>6</td>\n",
       "      <td>1</td>\n",
       "      <td>2</td>\n",
       "      <td>Y</td>\n",
       "      <td>2008</td>\n",
       "      <td>Normal</td>\n",
       "      <td>223500</td>\n",
       "    </tr>\n",
       "    <tr>\n",
       "      <th>3</th>\n",
       "      <td>70</td>\n",
       "      <td>RL</td>\n",
       "      <td>60.0</td>\n",
       "      <td>9550</td>\n",
       "      <td>IR1</td>\n",
       "      <td>Crawfor</td>\n",
       "      <td>1Fam</td>\n",
       "      <td>2Story</td>\n",
       "      <td>7</td>\n",
       "      <td>5</td>\n",
       "      <td>...</td>\n",
       "      <td>3</td>\n",
       "      <td>1</td>\n",
       "      <td>Gd</td>\n",
       "      <td>7</td>\n",
       "      <td>1</td>\n",
       "      <td>3</td>\n",
       "      <td>Y</td>\n",
       "      <td>2006</td>\n",
       "      <td>Abnorml</td>\n",
       "      <td>140000</td>\n",
       "    </tr>\n",
       "    <tr>\n",
       "      <th>4</th>\n",
       "      <td>60</td>\n",
       "      <td>RL</td>\n",
       "      <td>84.0</td>\n",
       "      <td>14260</td>\n",
       "      <td>IR1</td>\n",
       "      <td>NoRidge</td>\n",
       "      <td>1Fam</td>\n",
       "      <td>2Story</td>\n",
       "      <td>8</td>\n",
       "      <td>5</td>\n",
       "      <td>...</td>\n",
       "      <td>4</td>\n",
       "      <td>1</td>\n",
       "      <td>Gd</td>\n",
       "      <td>9</td>\n",
       "      <td>1</td>\n",
       "      <td>3</td>\n",
       "      <td>Y</td>\n",
       "      <td>2008</td>\n",
       "      <td>Normal</td>\n",
       "      <td>250000</td>\n",
       "    </tr>\n",
       "  </tbody>\n",
       "</table>\n",
       "<p>5 rows × 39 columns</p>\n",
       "</div>"
      ],
      "text/plain": [
       "   MSSubClass MSZoning  LotFrontage  LotArea LotShape Neighborhood BldgType  \\\n",
       "0          60       RL         65.0     8450      Reg      CollgCr     1Fam   \n",
       "1          20       RL         80.0     9600      Reg      Veenker     1Fam   \n",
       "2          60       RL         68.0    11250      IR1      CollgCr     1Fam   \n",
       "3          70       RL         60.0     9550      IR1      Crawfor     1Fam   \n",
       "4          60       RL         84.0    14260      IR1      NoRidge     1Fam   \n",
       "\n",
       "  HouseStyle  OverallQual  OverallCond    ...     BedroomAbvGr  KitchenAbvGr  \\\n",
       "0     2Story            7            5    ...                3             1   \n",
       "1     1Story            6            8    ...                3             1   \n",
       "2     2Story            7            5    ...                3             1   \n",
       "3     2Story            7            5    ...                3             1   \n",
       "4     2Story            8            5    ...                4             1   \n",
       "\n",
       "  KitchenQual TotRmsAbvGrd Fireplaces GarageCars PavedDrive  YrSold  \\\n",
       "0          Gd            8          0          2          Y    2008   \n",
       "1          TA            6          1          2          Y    2007   \n",
       "2          Gd            6          1          2          Y    2008   \n",
       "3          Gd            7          1          3          Y    2006   \n",
       "4          Gd            9          1          3          Y    2008   \n",
       "\n",
       "   SaleCondition SalePrice  \n",
       "0         Normal    208500  \n",
       "1         Normal    181500  \n",
       "2         Normal    223500  \n",
       "3        Abnorml    140000  \n",
       "4         Normal    250000  \n",
       "\n",
       "[5 rows x 39 columns]"
      ]
     },
     "execution_count": 148,
     "metadata": {},
     "output_type": "execute_result"
    }
   ],
   "source": [
    "df = pd.read_csv(\"Train.csv\")\n",
    "df.head()"
   ]
  },
  {
   "cell_type": "markdown",
   "metadata": {},
   "source": [
    "### Visualizations of Price & Exterior Material, Basement Condition, Year Sold"
   ]
  },
  {
   "cell_type": "code",
   "execution_count": 4,
   "metadata": {},
   "outputs": [
    {
     "name": "stdout",
     "output_type": "stream",
     "text": [
      "['MSSubClass' 'MSZoning' 'LotFrontage' 'LotArea' 'LotShape' 'Neighborhood'\n",
      " 'BldgType' 'HouseStyle' 'OverallQual' 'OverallCond' 'YearBuilt'\n",
      " 'YearRemodAdd' 'Exterior1st' 'ExterQual' 'ExterCond' 'Foundation'\n",
      " 'BsmtFinType1' 'BsmtFinSF1' 'TotalBsmtSF' 'Heating' 'HeatingQC'\n",
      " 'CentralAir' 'GrLivArea' 'BsmtFullBath' 'BsmtHalfBath' 'TotalFullBath'\n",
      " 'TotalHalfBath' 'FullBath' 'HalfBath' 'BedroomAbvGr' 'KitchenAbvGr'\n",
      " 'KitchenQual' 'TotRmsAbvGrd' 'Fireplaces' 'GarageCars' 'PavedDrive'\n",
      " 'YrSold' 'SaleCondition' 'SalePrice']\n"
     ]
    }
   ],
   "source": [
    "attr = df.values\n",
    "print (df.columns.values)"
   ]
  },
  {
   "cell_type": "code",
   "execution_count": 120,
   "metadata": {},
   "outputs": [
    {
     "data": {
      "text/html": [
       "<div>\n",
       "<style scoped>\n",
       "    .dataframe tbody tr th:only-of-type {\n",
       "        vertical-align: middle;\n",
       "    }\n",
       "\n",
       "    .dataframe tbody tr th {\n",
       "        vertical-align: top;\n",
       "    }\n",
       "\n",
       "    .dataframe thead th {\n",
       "        text-align: right;\n",
       "    }\n",
       "</style>\n",
       "<table border=\"1\" class=\"dataframe\">\n",
       "  <thead>\n",
       "    <tr style=\"text-align: right;\">\n",
       "      <th></th>\n",
       "      <th>Exterior1st</th>\n",
       "      <th>SalePrice</th>\n",
       "    </tr>\n",
       "  </thead>\n",
       "  <tbody>\n",
       "    <tr>\n",
       "      <th>0</th>\n",
       "      <td>VinylSd</td>\n",
       "      <td>208500</td>\n",
       "    </tr>\n",
       "    <tr>\n",
       "      <th>1</th>\n",
       "      <td>MetalSd</td>\n",
       "      <td>181500</td>\n",
       "    </tr>\n",
       "    <tr>\n",
       "      <th>2</th>\n",
       "      <td>VinylSd</td>\n",
       "      <td>223500</td>\n",
       "    </tr>\n",
       "    <tr>\n",
       "      <th>3</th>\n",
       "      <td>Wd Sdng</td>\n",
       "      <td>140000</td>\n",
       "    </tr>\n",
       "    <tr>\n",
       "      <th>4</th>\n",
       "      <td>VinylSd</td>\n",
       "      <td>250000</td>\n",
       "    </tr>\n",
       "  </tbody>\n",
       "</table>\n",
       "</div>"
      ],
      "text/plain": [
       "  Exterior1st  SalePrice\n",
       "0     VinylSd     208500\n",
       "1     MetalSd     181500\n",
       "2     VinylSd     223500\n",
       "3     Wd Sdng     140000\n",
       "4     VinylSd     250000"
      ]
     },
     "execution_count": 120,
     "metadata": {},
     "output_type": "execute_result"
    }
   ],
   "source": [
    "#Just exploring the relationship for my variables in relation to price, Exterior1st\n",
    "materials = (df.loc[:, ['Exterior1st', 'SalePrice']])\n",
    "materials.head()"
   ]
  },
  {
   "cell_type": "code",
   "execution_count": 121,
   "metadata": {},
   "outputs": [
    {
     "data": {
      "text/html": [
       "<div>\n",
       "<style scoped>\n",
       "    .dataframe tbody tr th:only-of-type {\n",
       "        vertical-align: middle;\n",
       "    }\n",
       "\n",
       "    .dataframe tbody tr th {\n",
       "        vertical-align: top;\n",
       "    }\n",
       "\n",
       "    .dataframe thead tr th {\n",
       "        text-align: left;\n",
       "    }\n",
       "\n",
       "    .dataframe thead tr:last-of-type th {\n",
       "        text-align: right;\n",
       "    }\n",
       "</style>\n",
       "<table border=\"1\" class=\"dataframe\">\n",
       "  <thead>\n",
       "    <tr>\n",
       "      <th></th>\n",
       "      <th colspan=\"4\" halign=\"left\">SalePrice</th>\n",
       "    </tr>\n",
       "    <tr>\n",
       "      <th></th>\n",
       "      <th>min</th>\n",
       "      <th>max</th>\n",
       "      <th>mean</th>\n",
       "      <th>median</th>\n",
       "    </tr>\n",
       "    <tr>\n",
       "      <th>Exterior1st</th>\n",
       "      <th></th>\n",
       "      <th></th>\n",
       "      <th></th>\n",
       "      <th></th>\n",
       "    </tr>\n",
       "  </thead>\n",
       "  <tbody>\n",
       "    <tr>\n",
       "      <th>AsbShng</th>\n",
       "      <td>35311</td>\n",
       "      <td>165500</td>\n",
       "      <td>107385.550000</td>\n",
       "      <td>108000.0</td>\n",
       "    </tr>\n",
       "    <tr>\n",
       "      <th>AsphShn</th>\n",
       "      <td>100000</td>\n",
       "      <td>100000</td>\n",
       "      <td>100000.000000</td>\n",
       "      <td>100000.0</td>\n",
       "    </tr>\n",
       "    <tr>\n",
       "      <th>BrkComm</th>\n",
       "      <td>60000</td>\n",
       "      <td>82000</td>\n",
       "      <td>71000.000000</td>\n",
       "      <td>71000.0</td>\n",
       "    </tr>\n",
       "    <tr>\n",
       "      <th>BrkFace</th>\n",
       "      <td>40000</td>\n",
       "      <td>430000</td>\n",
       "      <td>194573.000000</td>\n",
       "      <td>165750.0</td>\n",
       "    </tr>\n",
       "    <tr>\n",
       "      <th>CBlock</th>\n",
       "      <td>105000</td>\n",
       "      <td>105000</td>\n",
       "      <td>105000.000000</td>\n",
       "      <td>105000.0</td>\n",
       "    </tr>\n",
       "    <tr>\n",
       "      <th>CemntBd</th>\n",
       "      <td>75000</td>\n",
       "      <td>556581</td>\n",
       "      <td>231690.655738</td>\n",
       "      <td>236500.0</td>\n",
       "    </tr>\n",
       "    <tr>\n",
       "      <th>HdBoard</th>\n",
       "      <td>83000</td>\n",
       "      <td>755000</td>\n",
       "      <td>163077.450450</td>\n",
       "      <td>149900.0</td>\n",
       "    </tr>\n",
       "    <tr>\n",
       "      <th>ImStucc</th>\n",
       "      <td>262000</td>\n",
       "      <td>262000</td>\n",
       "      <td>262000.000000</td>\n",
       "      <td>262000.0</td>\n",
       "    </tr>\n",
       "    <tr>\n",
       "      <th>MetalSd</th>\n",
       "      <td>62383</td>\n",
       "      <td>392000</td>\n",
       "      <td>149422.177273</td>\n",
       "      <td>139000.0</td>\n",
       "    </tr>\n",
       "    <tr>\n",
       "      <th>Plywood</th>\n",
       "      <td>82500</td>\n",
       "      <td>345000</td>\n",
       "      <td>175942.379630</td>\n",
       "      <td>167450.0</td>\n",
       "    </tr>\n",
       "    <tr>\n",
       "      <th>Stone</th>\n",
       "      <td>230000</td>\n",
       "      <td>287000</td>\n",
       "      <td>258500.000000</td>\n",
       "      <td>258500.0</td>\n",
       "    </tr>\n",
       "    <tr>\n",
       "      <th>Stucco</th>\n",
       "      <td>58500</td>\n",
       "      <td>381000</td>\n",
       "      <td>162990.000000</td>\n",
       "      <td>144000.0</td>\n",
       "    </tr>\n",
       "    <tr>\n",
       "      <th>VinylSd</th>\n",
       "      <td>37900</td>\n",
       "      <td>611657</td>\n",
       "      <td>213732.900971</td>\n",
       "      <td>200000.0</td>\n",
       "    </tr>\n",
       "    <tr>\n",
       "      <th>Wd Sdng</th>\n",
       "      <td>34900</td>\n",
       "      <td>745000</td>\n",
       "      <td>149841.645631</td>\n",
       "      <td>138943.5</td>\n",
       "    </tr>\n",
       "    <tr>\n",
       "      <th>WdShing</th>\n",
       "      <td>87000</td>\n",
       "      <td>385000</td>\n",
       "      <td>150655.076923</td>\n",
       "      <td>128700.0</td>\n",
       "    </tr>\n",
       "  </tbody>\n",
       "</table>\n",
       "</div>"
      ],
      "text/plain": [
       "            SalePrice                                 \n",
       "                  min     max           mean    median\n",
       "Exterior1st                                           \n",
       "AsbShng         35311  165500  107385.550000  108000.0\n",
       "AsphShn        100000  100000  100000.000000  100000.0\n",
       "BrkComm         60000   82000   71000.000000   71000.0\n",
       "BrkFace         40000  430000  194573.000000  165750.0\n",
       "CBlock         105000  105000  105000.000000  105000.0\n",
       "CemntBd         75000  556581  231690.655738  236500.0\n",
       "HdBoard         83000  755000  163077.450450  149900.0\n",
       "ImStucc        262000  262000  262000.000000  262000.0\n",
       "MetalSd         62383  392000  149422.177273  139000.0\n",
       "Plywood         82500  345000  175942.379630  167450.0\n",
       "Stone          230000  287000  258500.000000  258500.0\n",
       "Stucco          58500  381000  162990.000000  144000.0\n",
       "VinylSd         37900  611657  213732.900971  200000.0\n",
       "Wd Sdng         34900  745000  149841.645631  138943.5\n",
       "WdShing         87000  385000  150655.076923  128700.0"
      ]
     },
     "execution_count": 121,
     "metadata": {},
     "output_type": "execute_result"
    }
   ],
   "source": [
    "#Pivot table for average prices according to materials\n",
    "\n",
    "pivot = materials.groupby('Exterior1st').aggregate({\n",
    "    'SalePrice': ['min', 'max', 'mean', 'median']\n",
    "})\n",
    "pivot"
   ]
  },
  {
   "cell_type": "code",
   "execution_count": 126,
   "metadata": {},
   "outputs": [],
   "source": [
    "#PLotting a barplot\n",
    "#objects = ('AsbShng', 'AsphShn', 'BrkComm', 'BrkFace', 'CBlock', 'CemntBd', 'HdBoard', 'ImStucc', 'MetalSd', 'Plywood', \n",
    "#           'Stone', 'Stucco', 'VinylSd', 'Wd Sdng', 'WdShing')   \n",
    "#y_pos = np.arange(len(objects))\n",
    "#pricing = [107385, 100000, 71000, 194573, 105000, 231690, 163077, 262000, 149422, 175942, 258500, 162990, 213732, 149841, \n",
    "#          150655]\n",
    " \n",
    "#plt.figure(figsize=(20,10))\n",
    "#plt.bar(objects, pricing, align='center', alpha=0.5)\n",
    "#plt.xticks(y_pos, objects)\n",
    "#plt.ylabel('Price ($)')\n",
    "#plt.xlabel('Type of Material')\n",
    "#plt.title('Average House Prices Per External Material')\n",
    " \n",
    "#plt.show()"
   ]
  },
  {
   "cell_type": "markdown",
   "metadata": {},
   "source": [
    "![Barplot of Materials on Price](output_7_0.png)"
   ]
  },
  {
   "cell_type": "code",
   "execution_count": 123,
   "metadata": {},
   "outputs": [
    {
     "data": {
      "text/plain": [
       "<matplotlib.axes._subplots.AxesSubplot at 0xdf4afd0>"
      ]
     },
     "execution_count": 123,
     "metadata": {},
     "output_type": "execute_result"
    },
    {
     "data": {
      "image/png": "[encoded data removed]",
      "text/plain": [
       "<matplotlib.figure.Figure at 0x10461f28>"
      ]
     },
     "metadata": {},
     "output_type": "display_data"
    }
   ],
   "source": [
    "result = materials.groupby([\"Exterior1st\"])['SalePrice'].aggregate(np.mean).reset_index().sort_values('SalePrice')\n",
    "plt.figure(figsize=(20,10))\n",
    "plt.ylabel('Price ($)')\n",
    "plt.xlabel('Type of Material')\n",
    "plt.title('Average House Prices Per External Material')\n",
    "sns.barplot(x='Exterior1st', y=\"SalePrice\", data=materials, order=result['Exterior1st'])"
   ]
  },
  {
   "cell_type": "markdown",
   "metadata": {},
   "source": [
    "So we see that the Brick Common material (covering the exterior of the house) has the lowest average, for housing price. \n",
    "Interestingly enough, the Imitation Stucco material actually has the highest average housing price (above real Stucco), \n",
    "followed by Stone, and then Cement Board. These are all more 'premium' consutruction materials typically found in luxury \n",
    "and more expensive homes (compared to wood and older bricks)."
   ]
  },
  {
   "cell_type": "code",
   "execution_count": 140,
   "metadata": {},
   "outputs": [
    {
     "data": {
      "text/html": [
       "<div>\n",
       "<style scoped>\n",
       "    .dataframe tbody tr th:only-of-type {\n",
       "        vertical-align: middle;\n",
       "    }\n",
       "\n",
       "    .dataframe tbody tr th {\n",
       "        vertical-align: top;\n",
       "    }\n",
       "\n",
       "    .dataframe thead tr th {\n",
       "        text-align: left;\n",
       "    }\n",
       "\n",
       "    .dataframe thead tr:last-of-type th {\n",
       "        text-align: right;\n",
       "    }\n",
       "</style>\n",
       "<table border=\"1\" class=\"dataframe\">\n",
       "  <thead>\n",
       "    <tr>\n",
       "      <th></th>\n",
       "      <th colspan=\"3\" halign=\"left\">SalePrice</th>\n",
       "    </tr>\n",
       "    <tr>\n",
       "      <th></th>\n",
       "      <th>min</th>\n",
       "      <th>max</th>\n",
       "      <th>mean</th>\n",
       "    </tr>\n",
       "    <tr>\n",
       "      <th>BsmtFinType1</th>\n",
       "      <th></th>\n",
       "      <th></th>\n",
       "      <th></th>\n",
       "    </tr>\n",
       "  </thead>\n",
       "  <tbody>\n",
       "    <tr>\n",
       "      <th>ALQ</th>\n",
       "      <td>81000</td>\n",
       "      <td>538000</td>\n",
       "      <td>161573.068182</td>\n",
       "    </tr>\n",
       "    <tr>\n",
       "      <th>BLQ</th>\n",
       "      <td>35311</td>\n",
       "      <td>359100</td>\n",
       "      <td>149493.655405</td>\n",
       "    </tr>\n",
       "    <tr>\n",
       "      <th>GLQ</th>\n",
       "      <td>80000</td>\n",
       "      <td>755000</td>\n",
       "      <td>235413.720096</td>\n",
       "    </tr>\n",
       "    <tr>\n",
       "      <th>LwQ</th>\n",
       "      <td>75500</td>\n",
       "      <td>301000</td>\n",
       "      <td>151852.702703</td>\n",
       "    </tr>\n",
       "    <tr>\n",
       "      <th>Rec</th>\n",
       "      <td>34900</td>\n",
       "      <td>381000</td>\n",
       "      <td>146889.248120</td>\n",
       "    </tr>\n",
       "    <tr>\n",
       "      <th>Unf</th>\n",
       "      <td>37900</td>\n",
       "      <td>582933</td>\n",
       "      <td>170670.576744</td>\n",
       "    </tr>\n",
       "  </tbody>\n",
       "</table>\n",
       "</div>"
      ],
      "text/plain": [
       "             SalePrice                       \n",
       "                   min     max           mean\n",
       "BsmtFinType1                                 \n",
       "ALQ              81000  538000  161573.068182\n",
       "BLQ              35311  359100  149493.655405\n",
       "GLQ              80000  755000  235413.720096\n",
       "LwQ              75500  301000  151852.702703\n",
       "Rec              34900  381000  146889.248120\n",
       "Unf              37900  582933  170670.576744"
      ]
     },
     "execution_count": 140,
     "metadata": {},
     "output_type": "execute_result"
    }
   ],
   "source": [
    "#Basement quality and timeline of prices\n",
    "\n",
    "#Basement first\n",
    "basement = (df.loc[:, ['BsmtFinType1', 'SalePrice']])\n",
    "\n",
    "pivot2 = basement.groupby('BsmtFinType1').aggregate({\n",
    "    'SalePrice': ['min', 'max', 'mean']\n",
    "})\n",
    "pivot2"
   ]
  },
  {
   "cell_type": "code",
   "execution_count": 141,
   "metadata": {},
   "outputs": [
    {
     "data": {
      "text/plain": [
       "<matplotlib.axes._subplots.AxesSubplot at 0x11fc32e8>"
      ]
     },
     "execution_count": 141,
     "metadata": {},
     "output_type": "execute_result"
    },
    {
     "data": {
      "image/png": "[encoded data removed]",
      "text/plain": [
       "<matplotlib.figure.Figure at 0x10555860>"
      ]
     },
     "metadata": {},
     "output_type": "display_data"
    }
   ],
   "source": [
    "result = basement.groupby([\"BsmtFinType1\"])['SalePrice'].aggregate(np.mean).reset_index().sort_values('SalePrice')\n",
    "\n",
    "plt.ylabel('Price ($)')\n",
    "plt.xlabel('Basement Condition')\n",
    "plt.title('Average House Prices Per Basement Condition')\n",
    "sns.barplot(x='BsmtFinType1', y=\"SalePrice\", data=basement, order=result['BsmtFinType1'])\n"
   ]
  },
  {
   "cell_type": "markdown",
   "metadata": {},
   "source": [
    "So we can see that unless the basement is at the level of GLQ - 'Good Living Quarters' (fully finished/highest standarad)\n",
    "then it really does not have a high correlation with the price of the house; in the sense that there is not much delination between all of the other (less finished) basement conditions on the sold housing price. "
   ]
  },
  {
   "cell_type": "code",
   "execution_count": 144,
   "metadata": {},
   "outputs": [
    {
     "data": {
      "text/html": [
       "<div>\n",
       "<style scoped>\n",
       "    .dataframe tbody tr th:only-of-type {\n",
       "        vertical-align: middle;\n",
       "    }\n",
       "\n",
       "    .dataframe tbody tr th {\n",
       "        vertical-align: top;\n",
       "    }\n",
       "\n",
       "    .dataframe thead th {\n",
       "        text-align: right;\n",
       "    }\n",
       "</style>\n",
       "<table border=\"1\" class=\"dataframe\">\n",
       "  <thead>\n",
       "    <tr style=\"text-align: right;\">\n",
       "      <th></th>\n",
       "      <th>YrSold</th>\n",
       "      <th>SalePrice</th>\n",
       "    </tr>\n",
       "  </thead>\n",
       "  <tbody>\n",
       "    <tr>\n",
       "      <th>0</th>\n",
       "      <td>2008</td>\n",
       "      <td>208500</td>\n",
       "    </tr>\n",
       "    <tr>\n",
       "      <th>1</th>\n",
       "      <td>2007</td>\n",
       "      <td>181500</td>\n",
       "    </tr>\n",
       "    <tr>\n",
       "      <th>2</th>\n",
       "      <td>2008</td>\n",
       "      <td>223500</td>\n",
       "    </tr>\n",
       "    <tr>\n",
       "      <th>3</th>\n",
       "      <td>2006</td>\n",
       "      <td>140000</td>\n",
       "    </tr>\n",
       "    <tr>\n",
       "      <th>4</th>\n",
       "      <td>2008</td>\n",
       "      <td>250000</td>\n",
       "    </tr>\n",
       "  </tbody>\n",
       "</table>\n",
       "</div>"
      ],
      "text/plain": [
       "   YrSold  SalePrice\n",
       "0    2008     208500\n",
       "1    2007     181500\n",
       "2    2008     223500\n",
       "3    2006     140000\n",
       "4    2008     250000"
      ]
     },
     "execution_count": 144,
     "metadata": {},
     "output_type": "execute_result"
    }
   ],
   "source": [
    "# Year\n",
    "yearsold = (df.loc[:, ['YrSold', 'SalePrice']])\n",
    "yearsold.head()"
   ]
  },
  {
   "cell_type": "code",
   "execution_count": 145,
   "metadata": {},
   "outputs": [
    {
     "data": {
      "text/html": [
       "<div>\n",
       "<style scoped>\n",
       "    .dataframe tbody tr th:only-of-type {\n",
       "        vertical-align: middle;\n",
       "    }\n",
       "\n",
       "    .dataframe tbody tr th {\n",
       "        vertical-align: top;\n",
       "    }\n",
       "\n",
       "    .dataframe thead tr th {\n",
       "        text-align: left;\n",
       "    }\n",
       "\n",
       "    .dataframe thead tr:last-of-type th {\n",
       "        text-align: right;\n",
       "    }\n",
       "</style>\n",
       "<table border=\"1\" class=\"dataframe\">\n",
       "  <thead>\n",
       "    <tr>\n",
       "      <th></th>\n",
       "      <th colspan=\"3\" halign=\"left\">SalePrice</th>\n",
       "    </tr>\n",
       "    <tr>\n",
       "      <th></th>\n",
       "      <th>min</th>\n",
       "      <th>max</th>\n",
       "      <th>mean</th>\n",
       "    </tr>\n",
       "    <tr>\n",
       "      <th>YrSold</th>\n",
       "      <th></th>\n",
       "      <th></th>\n",
       "      <th></th>\n",
       "    </tr>\n",
       "  </thead>\n",
       "  <tbody>\n",
       "    <tr>\n",
       "      <th>2006</th>\n",
       "      <td>35311</td>\n",
       "      <td>625000</td>\n",
       "      <td>182549.458599</td>\n",
       "    </tr>\n",
       "    <tr>\n",
       "      <th>2007</th>\n",
       "      <td>39300</td>\n",
       "      <td>755000</td>\n",
       "      <td>186063.151976</td>\n",
       "    </tr>\n",
       "    <tr>\n",
       "      <th>2008</th>\n",
       "      <td>40000</td>\n",
       "      <td>446261</td>\n",
       "      <td>177360.838816</td>\n",
       "    </tr>\n",
       "    <tr>\n",
       "      <th>2009</th>\n",
       "      <td>34900</td>\n",
       "      <td>582933</td>\n",
       "      <td>179432.103550</td>\n",
       "    </tr>\n",
       "    <tr>\n",
       "      <th>2010</th>\n",
       "      <td>55000</td>\n",
       "      <td>611657</td>\n",
       "      <td>177393.674286</td>\n",
       "    </tr>\n",
       "  </tbody>\n",
       "</table>\n",
       "</div>"
      ],
      "text/plain": [
       "       SalePrice                       \n",
       "             min     max           mean\n",
       "YrSold                                 \n",
       "2006       35311  625000  182549.458599\n",
       "2007       39300  755000  186063.151976\n",
       "2008       40000  446261  177360.838816\n",
       "2009       34900  582933  179432.103550\n",
       "2010       55000  611657  177393.674286"
      ]
     },
     "execution_count": 145,
     "metadata": {},
     "output_type": "execute_result"
    }
   ],
   "source": [
    "pivot3 = yearsold.groupby('YrSold').aggregate({\n",
    "    'SalePrice': ['min', 'max', 'mean']\n",
    "})\n",
    "pivot3"
   ]
  },
  {
   "cell_type": "code",
   "execution_count": 146,
   "metadata": {},
   "outputs": [
    {
     "data": {
      "text/plain": [
       "<matplotlib.axes._subplots.AxesSubplot at 0x12223b38>"
      ]
     },
     "execution_count": 146,
     "metadata": {},
     "output_type": "execute_result"
    },
    {
     "data": {
      "image/png": "[encoded data removed]",
      "text/plain": [
       "<matplotlib.figure.Figure at 0x12245e48>"
      ]
     },
     "metadata": {},
     "output_type": "display_data"
    }
   ],
   "source": [
    "result = yearsold.groupby([\"YrSold\"])['SalePrice'].aggregate(np.mean).reset_index().sort_values('SalePrice')\n",
    "plt.ylabel('Price ($)')\n",
    "plt.xlabel('Basement Condition')\n",
    "plt.title('Average House Prices Per Basement Condition')\n",
    "sns.barplot(x='YrSold', y=\"SalePrice\", data=yearsold)\n"
   ]
  },
  {
   "cell_type": "markdown",
   "metadata": {},
   "source": [
    "So, unfortunately, for this particular dataset we cannot see a high correlation between the year of the transaction, and the sales price of the house (averages are about the same across 2006-2010).\n",
    "\n",
    "Part of the reason is because this dataset does not provide a larger range of historical sales records (spanning more years). From a historical perspective, 2006-2009 represents the housing bubble recession experienced across the United States, lowering the value of properties. From research, housing prices only returned to the pre-recession value (and beyond) after 2012 in the United States. This means if the year sold column included data up to 2012 (or the present), then we would have seen a more interesting trend to analyze further."
   ]
  },
  {
   "cell_type": "markdown",
   "metadata": {},
   "source": [
    "### Cleaning dataset for ML models -"
   ]
  },
  {
   "cell_type": "code",
   "execution_count": 5,
   "metadata": {},
   "outputs": [],
   "source": [
    "#First: Replacing NAs:\n",
    "\n",
    "#LotFrontage, fill in NAs with mean\n",
    "df[\"LotFrontage\"] = df[\"LotFrontage\"].fillna(df[\"LotFrontage\"].mean())\n",
    "\n",
    "#BsmtFinType1, categorical basement feature, Na means there isn't a basement, so we can substitute with 'None'\n",
    "df['BsmtFinType1'] = df['BsmtFinType1'].fillna('None')\n",
    "  "
   ]
  },
  {
   "cell_type": "code",
   "execution_count": 6,
   "metadata": {},
   "outputs": [
    {
     "data": {
      "text/plain": [
       "MSSubClass       0\n",
       "MSZoning         0\n",
       "LotFrontage      0\n",
       "LotArea          0\n",
       "LotShape         0\n",
       "Neighborhood     0\n",
       "BldgType         0\n",
       "HouseStyle       0\n",
       "OverallQual      0\n",
       "OverallCond      0\n",
       "YearBuilt        0\n",
       "YearRemodAdd     0\n",
       "Exterior1st      0\n",
       "ExterQual        0\n",
       "ExterCond        0\n",
       "Foundation       0\n",
       "BsmtFinType1     0\n",
       "BsmtFinSF1       0\n",
       "TotalBsmtSF      0\n",
       "Heating          0\n",
       "HeatingQC        0\n",
       "CentralAir       0\n",
       "GrLivArea        0\n",
       "BsmtFullBath     0\n",
       "BsmtHalfBath     0\n",
       "TotalFullBath    0\n",
       "TotalHalfBath    0\n",
       "FullBath         0\n",
       "HalfBath         0\n",
       "BedroomAbvGr     0\n",
       "KitchenAbvGr     0\n",
       "KitchenQual      0\n",
       "TotRmsAbvGrd     0\n",
       "Fireplaces       0\n",
       "GarageCars       0\n",
       "PavedDrive       0\n",
       "YrSold           0\n",
       "SaleCondition    0\n",
       "SalePrice        0\n",
       "dtype: int64"
      ]
     },
     "execution_count": 6,
     "metadata": {},
     "output_type": "execute_result"
    }
   ],
   "source": [
    "#Check all NAs are gone\n",
    "df.isna().sum()"
   ]
  },
  {
   "cell_type": "markdown",
   "metadata": {},
   "source": [
    "### Converting categorical variables and misinterpreted features\n",
    "\n",
    "MSSubClass: Labeled as numeric in the dataset, but this does not make sense, because the numeric codes identify the type of dwelling involved:\n",
    "\n",
    "    20  1-STORY 1946 & NEWER ALL STYLES\n",
    "    30  1-STORY 1945 & OLDER\n",
    "    40  1-STORY W/FINISHED ATTIC ALL AGES\n",
    "    45  1-1/2 STORY - UNFINISHED ALL AGES\n",
    "    50  1-1/2 STORY FINISHED ALL AGES\n",
    "    60  2-STORY 1946 & NEWER\n",
    "    70  2-STORY 1945 & OLDER\n",
    "    75  2-1/2 STORY ALL AGES\n",
    "    80  SPLIT OR MULTI-LEVEL\n",
    "    85  SPLIT FOYER\n",
    "    90  DUPLEX - ALL STYLES AND AGES\n",
    "    120  1-STORY PUD (Planned Unit Development) - 1946 & NEWER\n",
    "    150  1-1/2 STORY PUD - ALL AGES\n",
    "    160  2-STORY PUD - 1946 & NEWER\n",
    "    180  PUD - MULTILEVEL - INCL SPLIT LEV/FOYER\n",
    "    190  2 FAMILY CONVERSION - ALL STYLES AND AGES\n",
    "   \n",
    "This does not mean that in our model, '20' is 6 times \"worse\" than '120' - they are simply different types of building styles\n",
    "not labeled in any sequential order. These are codes, not values, which needs to be converted into categorical (strings) to avoid confusion, for further processing. \n",
    "\n",
    "The same logic applies to 'YrSold' because a house sold in 2006 does not mean it is 2000 times better than a house from 2000 years ago, etc., in scale."
   ]
  },
  {
   "cell_type": "code",
   "execution_count": 7,
   "metadata": {},
   "outputs": [],
   "source": [
    "#Converting categorical variables and misinterpreted features\n",
    "\n",
    "#MSSubClass\n",
    "df['MSSubClass'] = df['MSSubClass'].apply(str)\n",
    "\n",
    "#Year\n",
    "df['YrSold'] = df['YrSold'].astype(str)\n",
    "\n",
    "#YearBuilt\n",
    "df['YearBuilt'] = df['YearBuilt'].astype(str)\n",
    "\n",
    "#YearRemodAdd\n",
    "df['YearRemodAdd'] = df['YearRemodAdd'].astype(str)\n"
   ]
  },
  {
   "cell_type": "markdown",
   "metadata": {},
   "source": [
    "Now, for categories which do follow a sequential order (which are relative, and can be approximated numerically)\n",
    "\n",
    "Like for Heating Quality, which represents condition:\n",
    "\n",
    "   Ex   Excellent\n",
    "   Gd   Good\n",
    "   TA   Average/Typical\n",
    "   Fa   Fair\n",
    "   Po   Poor\n",
    "For the purposes of this model and learning excersise, it is appropriate to just replace them as numeric (with poor the lowest, excellent the highest)."
   ]
  },
  {
   "cell_type": "code",
   "execution_count": 8,
   "metadata": {},
   "outputs": [
    {
     "data": {
      "text/plain": [
       "MSSubClass       object\n",
       "MSZoning         object\n",
       "LotFrontage       int32\n",
       "LotArea           int64\n",
       "LotShape          int64\n",
       "Neighborhood     object\n",
       "BldgType          int64\n",
       "HouseStyle       object\n",
       "OverallQual       int64\n",
       "OverallCond       int64\n",
       "YearBuilt         int64\n",
       "YearRemodAdd      int64\n",
       "Exterior1st      object\n",
       "ExterQual         int64\n",
       "ExterCond         int64\n",
       "Foundation       object\n",
       "BsmtFinType1      int64\n",
       "BsmtFinSF1        int64\n",
       "TotalBsmtSF       int64\n",
       "Heating          object\n",
       "HeatingQC         int64\n",
       "CentralAir        int64\n",
       "GrLivArea         int64\n",
       "BsmtFullBath      int64\n",
       "BsmtHalfBath      int64\n",
       "TotalFullBath     int64\n",
       "TotalHalfBath     int64\n",
       "FullBath          int64\n",
       "HalfBath          int64\n",
       "BedroomAbvGr      int64\n",
       "KitchenAbvGr      int64\n",
       "KitchenQual       int64\n",
       "TotRmsAbvGrd      int64\n",
       "Fireplaces        int64\n",
       "GarageCars        int64\n",
       "PavedDrive        int64\n",
       "YrSold            int64\n",
       "SaleCondition    object\n",
       "SalePrice         int64\n",
       "dtype: object"
      ]
     },
     "execution_count": 8,
     "metadata": {},
     "output_type": "execute_result"
    }
   ],
   "source": [
    "#Convert 'CentralAir' yes/no to 1/0\n",
    "df['CentralAir'] = df['CentralAir'].replace(\"N\", 0).replace(\"Y\", 1)\n",
    "\n",
    "#Labelencoder to scale as numeric (1 to n) for other categories \n",
    "from sklearn.preprocessing import LabelEncoder\n",
    "cols = ('ExterCond','HeatingQC', 'KitchenQual', 'BsmtFinType1', 'BldgType',\n",
    "        'LotShape', 'PavedDrive', 'YrSold', 'YearBuilt', 'YearRemodAdd', 'ExterQual')\n",
    "\n",
    "# Process columns and apply LabelEncoder to transform \n",
    "for c in cols:\n",
    "    lbl = LabelEncoder() \n",
    "    lbl.fit(list(df[c].values)) \n",
    "    df[c] = lbl.transform(list(df[c].values))\n",
    "\n",
    "# Lotfrontage should be int, not float (data type retained because we filled in NAs previously) Convert:\n",
    "df.LotFrontage = df.LotFrontage.astype(int)\n",
    "\n",
    "#Check data types\n",
    "df.dtypes"
   ]
  },
  {
   "cell_type": "markdown",
   "metadata": {},
   "source": [
    "So we have 8 columns remaining as object datatype (categorical variables).\n",
    "\n",
    "Finally, applying one-hot encoding for these 8 columns which cannot be convered numerically (would not make sense)"
   ]
  },
  {
   "cell_type": "code",
   "execution_count": 40,
   "metadata": {},
   "outputs": [],
   "source": [
    "#First creating 2 new dataframes, d1 as all the predictors we are keeping, d2 as the target (price)\n",
    "#  i.e.  dropped the bathroom columns for basement/above ground because we already have the total count\n",
    "\n",
    "d1 = df[['MSSubClass', 'MSZoning', 'LotFrontage', 'LotArea', 'LotShape', 'Neighborhood',\n",
    "         'BldgType', 'HouseStyle', 'OverallQual', 'OverallCond', 'YearBuilt', 'YearRemodAdd', \n",
    "         'Exterior1st', 'ExterQual', 'ExterCond', 'Foundation', 'BsmtFinType1', 'BsmtFinSF1', \n",
    "         'TotalBsmtSF', 'Heating', 'HeatingQC', 'CentralAir', 'GrLivArea', 'TotalFullBath', \n",
    "         'TotalHalfBath', 'BedroomAbvGr', 'KitchenAbvGr', 'KitchenQual', 'TotRmsAbvGrd', \n",
    "         'Fireplaces', 'GarageCars', 'PavedDrive', 'YrSold', 'SaleCondition']]\n",
    "\n",
    "d2 = df[['SalePrice']]"
   ]
  },
  {
   "cell_type": "code",
   "execution_count": 41,
   "metadata": {},
   "outputs": [
    {
     "data": {
      "text/html": [
       "<div>\n",
       "<style scoped>\n",
       "    .dataframe tbody tr th:only-of-type {\n",
       "        vertical-align: middle;\n",
       "    }\n",
       "\n",
       "    .dataframe tbody tr th {\n",
       "        vertical-align: top;\n",
       "    }\n",
       "\n",
       "    .dataframe thead th {\n",
       "        text-align: right;\n",
       "    }\n",
       "</style>\n",
       "<table border=\"1\" class=\"dataframe\">\n",
       "  <thead>\n",
       "    <tr style=\"text-align: right;\">\n",
       "      <th></th>\n",
       "      <th>LotFrontage</th>\n",
       "      <th>LotArea</th>\n",
       "      <th>LotShape</th>\n",
       "      <th>BldgType</th>\n",
       "      <th>OverallQual</th>\n",
       "      <th>OverallCond</th>\n",
       "      <th>YearBuilt</th>\n",
       "      <th>YearRemodAdd</th>\n",
       "      <th>ExterQual</th>\n",
       "      <th>ExterCond</th>\n",
       "      <th>...</th>\n",
       "      <th>30</th>\n",
       "      <th>40</th>\n",
       "      <th>45</th>\n",
       "      <th>50</th>\n",
       "      <th>60</th>\n",
       "      <th>70</th>\n",
       "      <th>75</th>\n",
       "      <th>80</th>\n",
       "      <th>85</th>\n",
       "      <th>90</th>\n",
       "    </tr>\n",
       "  </thead>\n",
       "  <tbody>\n",
       "    <tr>\n",
       "      <th>0</th>\n",
       "      <td>65</td>\n",
       "      <td>8450</td>\n",
       "      <td>3</td>\n",
       "      <td>0</td>\n",
       "      <td>7</td>\n",
       "      <td>5</td>\n",
       "      <td>104</td>\n",
       "      <td>53</td>\n",
       "      <td>2</td>\n",
       "      <td>4</td>\n",
       "      <td>...</td>\n",
       "      <td>0</td>\n",
       "      <td>0</td>\n",
       "      <td>0</td>\n",
       "      <td>0</td>\n",
       "      <td>1</td>\n",
       "      <td>0</td>\n",
       "      <td>0</td>\n",
       "      <td>0</td>\n",
       "      <td>0</td>\n",
       "      <td>0</td>\n",
       "    </tr>\n",
       "    <tr>\n",
       "      <th>1</th>\n",
       "      <td>80</td>\n",
       "      <td>9600</td>\n",
       "      <td>3</td>\n",
       "      <td>0</td>\n",
       "      <td>6</td>\n",
       "      <td>8</td>\n",
       "      <td>77</td>\n",
       "      <td>26</td>\n",
       "      <td>3</td>\n",
       "      <td>4</td>\n",
       "      <td>...</td>\n",
       "      <td>0</td>\n",
       "      <td>0</td>\n",
       "      <td>0</td>\n",
       "      <td>0</td>\n",
       "      <td>0</td>\n",
       "      <td>0</td>\n",
       "      <td>0</td>\n",
       "      <td>0</td>\n",
       "      <td>0</td>\n",
       "      <td>0</td>\n",
       "    </tr>\n",
       "    <tr>\n",
       "      <th>2</th>\n",
       "      <td>68</td>\n",
       "      <td>11250</td>\n",
       "      <td>0</td>\n",
       "      <td>0</td>\n",
       "      <td>7</td>\n",
       "      <td>5</td>\n",
       "      <td>102</td>\n",
       "      <td>52</td>\n",
       "      <td>2</td>\n",
       "      <td>4</td>\n",
       "      <td>...</td>\n",
       "      <td>0</td>\n",
       "      <td>0</td>\n",
       "      <td>0</td>\n",
       "      <td>0</td>\n",
       "      <td>1</td>\n",
       "      <td>0</td>\n",
       "      <td>0</td>\n",
       "      <td>0</td>\n",
       "      <td>0</td>\n",
       "      <td>0</td>\n",
       "    </tr>\n",
       "    <tr>\n",
       "      <th>3</th>\n",
       "      <td>60</td>\n",
       "      <td>9550</td>\n",
       "      <td>0</td>\n",
       "      <td>0</td>\n",
       "      <td>7</td>\n",
       "      <td>5</td>\n",
       "      <td>19</td>\n",
       "      <td>20</td>\n",
       "      <td>3</td>\n",
       "      <td>4</td>\n",
       "      <td>...</td>\n",
       "      <td>0</td>\n",
       "      <td>0</td>\n",
       "      <td>0</td>\n",
       "      <td>0</td>\n",
       "      <td>0</td>\n",
       "      <td>1</td>\n",
       "      <td>0</td>\n",
       "      <td>0</td>\n",
       "      <td>0</td>\n",
       "      <td>0</td>\n",
       "    </tr>\n",
       "    <tr>\n",
       "      <th>4</th>\n",
       "      <td>84</td>\n",
       "      <td>14260</td>\n",
       "      <td>0</td>\n",
       "      <td>0</td>\n",
       "      <td>8</td>\n",
       "      <td>5</td>\n",
       "      <td>101</td>\n",
       "      <td>50</td>\n",
       "      <td>2</td>\n",
       "      <td>4</td>\n",
       "      <td>...</td>\n",
       "      <td>0</td>\n",
       "      <td>0</td>\n",
       "      <td>0</td>\n",
       "      <td>0</td>\n",
       "      <td>1</td>\n",
       "      <td>0</td>\n",
       "      <td>0</td>\n",
       "      <td>0</td>\n",
       "      <td>0</td>\n",
       "      <td>0</td>\n",
       "    </tr>\n",
       "  </tbody>\n",
       "</table>\n",
       "<p>5 rows × 104 columns</p>\n",
       "</div>"
      ],
      "text/plain": [
       "   LotFrontage  LotArea  LotShape  BldgType  OverallQual  OverallCond  \\\n",
       "0           65     8450         3         0            7            5   \n",
       "1           80     9600         3         0            6            8   \n",
       "2           68    11250         0         0            7            5   \n",
       "3           60     9550         0         0            7            5   \n",
       "4           84    14260         0         0            8            5   \n",
       "\n",
       "   YearBuilt  YearRemodAdd  ExterQual  ExterCond ...  30  40  45  50  60  70  \\\n",
       "0        104            53          2          4 ...   0   0   0   0   1   0   \n",
       "1         77            26          3          4 ...   0   0   0   0   0   0   \n",
       "2        102            52          2          4 ...   0   0   0   0   1   0   \n",
       "3         19            20          3          4 ...   0   0   0   0   0   1   \n",
       "4        101            50          2          4 ...   0   0   0   0   1   0   \n",
       "\n",
       "   75  80  85  90  \n",
       "0   0   0   0   0  \n",
       "1   0   0   0   0  \n",
       "2   0   0   0   0  \n",
       "3   0   0   0   0  \n",
       "4   0   0   0   0  \n",
       "\n",
       "[5 rows x 104 columns]"
      ]
     },
     "execution_count": 41,
     "metadata": {},
     "output_type": "execute_result"
    }
   ],
   "source": [
    "#SaleCondition - normal, bankrupt, family, etc. \n",
    "dummy_salecond = pd.get_dummies(d1[\"SaleCondition\"],drop_first=True)\n",
    "\n",
    "#MSZoning\n",
    "dummy_zoning = pd.get_dummies(d1[\"MSZoning\"],drop_first=True)\n",
    "\n",
    "#Neighborhood\n",
    "dummy_neighborhood = pd.get_dummies(d1[\"Neighborhood\"],drop_first=True)\n",
    "\n",
    "#HouseStyle\n",
    "dummy_housestyle = pd.get_dummies(d1[\"HouseStyle\"],drop_first=True)\n",
    "\n",
    "#Exterior1st\n",
    "dummy_exterior = pd.get_dummies(d1[\"Exterior1st\"],drop_first=True)\n",
    "\n",
    "#Foundation\n",
    "dummy_foundation = pd.get_dummies(d1[\"Foundation\"],drop_first=True)\n",
    "\n",
    "#Heating\n",
    "dummy_heating = pd.get_dummies(d1[\"Heating\"],drop_first=True)\n",
    "\n",
    "#MSSubClass\n",
    "dummy_mssub = pd.get_dummies(d1[\"MSSubClass\"],drop_first=True)\n",
    "\n",
    "\n",
    "d1 = pd.concat([d1, dummy_salecond, dummy_zoning, dummy_neighborhood, dummy_housestyle, \n",
    "               dummy_exterior, dummy_foundation, dummy_heating, dummy_mssub],axis=1)\n",
    "\n",
    "# Remove original columns after one-hot completed (no longer needed)? But first column already dropped.\n",
    "d1.drop([\"SaleCondition\",\"MSZoning\",\"Neighborhood\", \"HouseStyle\", \"Exterior1st\", \"Foundation\", \n",
    "        \"Heating\", \"MSSubClass\"],axis=1,inplace=True)\n",
    "\n",
    "\n",
    "# Dropping even more uncorrelated variables or avoid multicollinearity? Up to interpretation. None for now. \n",
    "d1.head()"
   ]
  },
  {
   "cell_type": "markdown",
   "metadata": {},
   "source": [
    "## ML Models, Boosting\n"
   ]
  },
  {
   "cell_type": "code",
   "execution_count": 42,
   "metadata": {},
   "outputs": [],
   "source": [
    "#Making sure all inputs are integer datatype\n",
    "d1 = d1.astype(int)\n",
    "d2 = d2.astype(int)\n",
    "\n",
    "#print(d1.dtypes)\n",
    "#print(d2.dtypes)"
   ]
  },
  {
   "cell_type": "code",
   "execution_count": 43,
   "metadata": {},
   "outputs": [],
   "source": [
    "# Partitioning the dataset, split into 80-20 percent for training-validiation \n",
    "from sklearn.model_selection import train_test_split  \n",
    "X_train, X_test, y_train, y_test = train_test_split(d1, d2, test_size=0.20)"
   ]
  },
  {
   "cell_type": "code",
   "execution_count": 44,
   "metadata": {},
   "outputs": [],
   "source": [
    "#Normalizing - actually standardizing - the predictors\n",
    "from sklearn.preprocessing import StandardScaler  \n",
    "scaler = StandardScaler()  \n",
    "scaler.fit(X_train)\n",
    "\n",
    "X_train = scaler.transform(X_train)  \n",
    "X_test = scaler.transform(X_test)  "
   ]
  },
  {
   "cell_type": "code",
   "execution_count": 45,
   "metadata": {},
   "outputs": [
    {
     "name": "stderr",
     "output_type": "stream",
     "text": [
      "C:\\Users\\User\\Anaconda2\\lib\\site-packages\\ipykernel_launcher.py:2: SettingWithCopyWarning: \n",
      "A value is trying to be set on a copy of a slice from a DataFrame.\n",
      "Try using .loc[row_indexer,col_indexer] = value instead\n",
      "\n",
      "See the caveats in the documentation: http://pandas.pydata.org/pandas-docs/stable/indexing.html#indexing-view-versus-copy\n",
      "  \n",
      "C:\\Users\\User\\Anaconda2\\lib\\site-packages\\ipykernel_launcher.py:4: SettingWithCopyWarning: \n",
      "A value is trying to be set on a copy of a slice from a DataFrame.\n",
      "Try using .loc[row_indexer,col_indexer] = value instead\n",
      "\n",
      "See the caveats in the documentation: http://pandas.pydata.org/pandas-docs/stable/indexing.html#indexing-view-versus-copy\n",
      "  after removing the cwd from sys.path.\n"
     ]
    }
   ],
   "source": [
    "#Normalizing - fixing skew - for the target variable, price\n",
    "y_train[\"SalePrice\"] = np.log1p(y_train[\"SalePrice\"])\n",
    "\n",
    "y_test[\"SalePrice\"] = np.log1p(y_test[\"SalePrice\"])"
   ]
  },
  {
   "cell_type": "code",
   "execution_count": 13,
   "metadata": {},
   "outputs": [],
   "source": [
    "# helper function used to plot decision boundary (optional)\n",
    "def plot_decision_boundary(clf, X, y, axes=[-1.5, 2.5, -1, 1.5], alpha=0.5, contour=True):\n",
    "    \"\"\"\n",
    "    Plot the decision boundary of a learnt classifier\n",
    "    \"\"\"\n",
    "    if isinstance(X, pd.DataFrame):\n",
    "        X = X.values\n",
    "    if isinstance(y, pd.Series):\n",
    "        y = y.values\n",
    "    \n",
    "    x1s = np.linspace(axes[0], axes[1], 100)\n",
    "    x2s = np.linspace(axes[2], axes[3], 100)\n",
    "    x1, x2 = np.meshgrid(x1s, x2s)\n",
    "    X_new = np.c_[x1.ravel(), x2.ravel()]\n",
    "    y_pred = clf.predict(X_new).reshape(x1.shape)\n",
    "    custom_cmap = ListedColormap(['#fafab0','#9898ff','#a0faa0'])\n",
    "    plt.contourf(x1, x2, y_pred, alpha=0.3, cmap=custom_cmap)\n",
    "    if contour:\n",
    "        custom_cmap2 = ListedColormap(['#7d7d58','#4c4c7f','#507d50'])\n",
    "        plt.contour(x1, x2, y_pred, cmap=custom_cmap2, alpha=1)\n",
    "    plt.plot(X[:, 0][y==0], X[:, 1][y==0], \"yo\", alpha=alpha)\n",
    "    plt.plot(X[:, 0][y==1], X[:, 1][y==1], \"bs\", alpha=alpha)\n",
    "    plt.axis(axes)\n",
    "    plt.xlabel(r\"$x_1$\", fontsize=18)\n",
    "    plt.ylabel(r\"$x_2$\", fontsize=18, rotation=0)"
   ]
  },
  {
   "cell_type": "code",
   "execution_count": 16,
   "metadata": {},
   "outputs": [],
   "source": [
    "from sklearn.linear_model import ElasticNet, Lasso,  BayesianRidge, LassoLarsIC\n",
    "from sklearn.ensemble import RandomForestRegressor,  GradientBoostingRegressor\n",
    "from sklearn.kernel_ridge import KernelRidge\n",
    "from sklearn.pipeline import make_pipeline\n",
    "from sklearn.preprocessing import RobustScaler\n",
    "from sklearn.base import BaseEstimator, TransformerMixin, RegressorMixin, clone\n",
    "from sklearn.model_selection import KFold, cross_val_score, train_test_split\n",
    "from sklearn.metrics import mean_squared_error\n",
    "import xgboost as xgb\n",
    "import lightgbm as lgb"
   ]
  },
  {
   "cell_type": "markdown",
   "metadata": {},
   "source": [
    "#### Adaboost\n",
    "\n",
    "AdaBoost is a type of \"Ensemble Learning\" where multiple learners are employed to build a stronger learning algorithm. AdaBoost works by choosing a base algorithm and iteratively improving it by accounting for the incorrectly classified examples in the training set. \n",
    "\n",
    "We assign equal weights to all the training examples and choose a base algorithm. At each step of iteration, we apply the base algorithm to the training set and increase the weights of the incorrectly classified examples. We iterate n times, each time applying base learner on the training set with updated weights. The final model is the weighted sum of the n learners. \n"
   ]
  },
  {
   "cell_type": "code",
   "execution_count": 111,
   "metadata": {},
   "outputs": [
    {
     "name": "stderr",
     "output_type": "stream",
     "text": [
      "C:\\Users\\User\\Anaconda2\\lib\\site-packages\\sklearn\\utils\\validation.py:578: DataConversionWarning: A column-vector y was passed when a 1d array was expected. Please change the shape of y to (n_samples, ), for example using ravel().\n",
      "  y = column_or_1d(y, warn=True)\n"
     ]
    },
    {
     "name": "stdout",
     "output_type": "stream",
     "text": [
      "The best score is 0.8310639527\n",
      "The best hyper parameter setting is {'n_estimators': 80, 'learning_rate': 1}\n"
     ]
    }
   ],
   "source": [
    "# Adaboost\n",
    "from sklearn.ensemble import AdaBoostRegressor\n",
    "from sklearn.model_selection import RandomizedSearchCV\n",
    "\n",
    "# With grid search - fine-tune Adaboost as base learners using grid search with cross-validation (GridSearchCV).\n",
    "parameters = {\n",
    "    \"n_estimators\": [20, 40, 60, 80, 100],\n",
    "    \"learning_rate\": [0.01, 0.1, 1, 10]\n",
    "}\n",
    "\n",
    "#  Replace DecisionTree with other regression models? Linear regression \n",
    "#adaboost = AdaBoostRegressor(DecisionTreeClassifier(max_depth=4), random_state=0)\n",
    "#adaboost_grid = GridSearchCV(adaboost, parameters, cv=3)\n",
    "#adaboost_grid.fit(X_train, y_train)\n",
    "\n",
    "# summarize the results of the grid search\n",
    "#print(\"The best score is {}\".format(adaboost_grid.best_score_))\n",
    "#print(\"The best hyper parameter setting is {}\".format(adaboost_grid.best_params_))\n",
    "# returns error: ValueError: Unknown label type: 'continuous'\n",
    "\n",
    "pre_gs_inst = RandomizedSearchCV(AdaBoostRegressor(),\n",
    " param_distributions = parameters,\n",
    " cv=3,\n",
    " n_iter = 8,\n",
    " n_jobs=-1)\n",
    "\n",
    "pre_gs_inst.fit(X_train, y_train)\n",
    "\n",
    "print(\"The best score is {}\".format(pre_gs_inst.best_score_))\n",
    "print(\"The best hyper parameter setting is {}\".format(pre_gs_inst.best_params_))"
   ]
  },
  {
   "cell_type": "code",
   "execution_count": 114,
   "metadata": {},
   "outputs": [],
   "source": [
    "#plot_decision_boundary(pre_gs_inst, X_train, y_train)"
   ]
  },
  {
   "cell_type": "markdown",
   "metadata": {},
   "source": [
    "#### Gradient Boosting\n",
    "\n",
    "Gradient boosting is a machine learning technique for regression and classification problems, which produces a prediction model in the form of an ensemble of weak prediction models.\n",
    "\n",
    "Gradient boosting generates learners during the learning process. It build first learner to predict the values/labels of samples, and calculate the loss (the difference between the outcome of the first learner and the real value). It will build a second learner to predict the loss after the first step. The step continues to learn the third, forth… until certain threshold.\n",
    "\n",
    "Adaboost requires users specify a set of weak learners (alternatively, it will randomly generate a set of weak learner before the real learning process). It will learn the weights of how to add these learners to be a strong learner. The weight of each learner is learned by whether it predicts a sample correctly or not. If a learner is mispredict a sample, the weight of the learner is reduced a bit. It will repeat such process until converge."
   ]
  },
  {
   "cell_type": "code",
   "execution_count": 55,
   "metadata": {},
   "outputs": [
    {
     "name": "stderr",
     "output_type": "stream",
     "text": [
      "C:\\Users\\User\\Anaconda2\\lib\\site-packages\\sklearn\\utils\\validation.py:578: DataConversionWarning: A column-vector y was passed when a 1d array was expected. Please change the shape of y to (n_samples, ), for example using ravel().\n",
      "  y = column_or_1d(y, warn=True)\n"
     ]
    },
    {
     "name": "stdout",
     "output_type": "stream",
     "text": [
      "model Root Mean Squared Error on Train data: 0.104162080034\n",
      "Root Mean square error on the Test set is: 0.133653398815\n"
     ]
    }
   ],
   "source": [
    "# Gradient Boosting\n",
    "est = GradientBoostingRegressor(n_estimators= 1000, max_depth= 2, learning_rate= .01)\n",
    "est.fit(X_train,y_train)\n",
    "\n",
    "y_train_predict = est.predict(X_train)\n",
    "y_test_predict = est.predict(X_test)\n",
    "est_train = mean_squared_error(y_train, y_train_predict)\n",
    "print(\"model Root Mean Squared Error on Train data: {}\".format(np.sqrt(est_train)))\n",
    "\n",
    "\n",
    "est_test = mean_squared_error(y_test, y_test_predict)\n",
    "print('Root Mean square error on the Test set is: {}'.format(np.sqrt(est_test)))"
   ]
  },
  {
   "cell_type": "code",
   "execution_count": 96,
   "metadata": {},
   "outputs": [
    {
     "name": "stderr",
     "output_type": "stream",
     "text": [
      "C:\\Users\\User\\Anaconda2\\lib\\site-packages\\sklearn\\utils\\validation.py:578: DataConversionWarning: A column-vector y was passed when a 1d array was expected. Please change the shape of y to (n_samples, ), for example using ravel().\n",
      "  y = column_or_1d(y, warn=True)\n"
     ]
    },
    {
     "name": "stdout",
     "output_type": "stream",
     "text": [
      "The best score is 0.885416822191\n",
      "The best hyper parameter setting is {'n_estimators': 60, 'learning_rate': 0.1}\n"
     ]
    }
   ],
   "source": [
    "#Gradient boosting with cross validation grid search\n",
    "parameters = {\n",
    "    \"n_estimators\": [20, 40, 60, 80, 100],\n",
    "    \"learning_rate\": [0.01, 0.1, 1, 10]\n",
    "}\n",
    "\n",
    "pre_gs_inst = RandomizedSearchCV(GradientBoostingRegressor(),\n",
    " param_distributions = parameters,\n",
    " cv=3,\n",
    " n_iter = 8,\n",
    " n_jobs=-1)\n",
    "\n",
    "pre_gs_inst.fit(X_train, y_train)\n",
    "\n",
    "print(\"The best score is {}\".format(pre_gs_inst.best_score_))\n",
    "print(\"The best hyper parameter setting is {}\".format(pre_gs_inst.best_params_))"
   ]
  },
  {
   "cell_type": "markdown",
   "metadata": {},
   "source": [
    "#### XGBoost\n",
    "\n",
    "XGBoost is short for eXtreme gradient boosting. It is a library designed and optimized for boosted tree algorithms.\n",
    "\n",
    "It's main goal is to push the extreme of the computation limits of machines to provide a scalable, portable and accurate for large scale tree boosting.\n",
    "\n",
    "The model uses: \n",
    "        \n",
    "        - Gradient Boosting algorithm also called gradient boosting machine including the learning rate.\n",
    "        - Stochastic Gradient Boosting with sub-sampling at the row, column and column per split levels.\n",
    "        - Regularized Gradient Boosting with both L1 and L2 regularization."
   ]
  },
  {
   "cell_type": "code",
   "execution_count": 77,
   "metadata": {},
   "outputs": [
    {
     "name": "stdout",
     "output_type": "stream",
     "text": [
      "XGBRegressor(base_score=0.5, booster='gbtree', colsample_bylevel=1,\n",
      "       colsample_bytree=0.2, gamma=0.0, learning_rate=0.05,\n",
      "       max_delta_step=0, max_depth=6, min_child_weight=1.5, missing=None,\n",
      "       n_estimators=7200, n_jobs=1, nthread=None, objective='reg:linear',\n",
      "       random_state=7, reg_alpha=0.9, reg_lambda=0.6, scale_pos_weight=1,\n",
      "       seed=42, silent=1, subsample=0.2)\n"
     ]
    }
   ],
   "source": [
    "#XGBoost, fitting the model\n",
    "#model = xgb.XGBRegressor()\n",
    "\n",
    "model = xgb.XGBRegressor(colsample_bytree=0.2, gamma=0.0, \n",
    "                        learning_rate=0.05, max_depth=6, \n",
    "                        min_child_weight=1.5, n_estimators=7200,\n",
    "                        reg_alpha=0.9, reg_lambda=0.6,\n",
    "                        subsample=0.2,seed=42, silent=1,\n",
    "                        random_state =7)\n",
    "\n",
    "model.fit(X_train, y_train)\n",
    "print(model)"
   ]
  },
  {
   "cell_type": "code",
   "execution_count": 78,
   "metadata": {},
   "outputs": [
    {
     "name": "stdout",
     "output_type": "stream",
     "text": [
      "0.8841739221278183\n",
      "model Root Mean Squared Error on Test data: 0.131741342373\n"
     ]
    }
   ],
   "source": [
    "from sklearn.metrics import explained_variance_score\n",
    "#Explained variance regression score function, Best possible score is 1.0, lower values are worse. A metric for accuracy. \n",
    "#Accruacy score cannot be used for continous value predictions, only for discrete classes which is why we use R2 or Varience\n",
    "\n",
    "#XGBoost, predictions\n",
    "y_pred = model.predict(X_test)\n",
    "\n",
    "print(explained_variance_score(y_pred,y_test))\n",
    "\n",
    "est_train = mean_squared_error(y_pred,y_test)\n",
    "print(\"model Root Mean Squared Error on Test data: {}\".format(np.sqrt(est_train)))"
   ]
  },
  {
   "cell_type": "code",
   "execution_count": 98,
   "metadata": {},
   "outputs": [],
   "source": [
    "#  XGBoost model with k-fold cross validation (in place of the manual split)\n",
    "from sklearn.model_selection import KFold\n",
    "from sklearn.model_selection import cross_val_score\n",
    "\n",
    "# CV model\n",
    "model = xgb.XGBRegressor(colsample_bytree=0.2, gamma=0.0, \n",
    "                        learning_rate=0.05, max_depth=6, \n",
    "                        min_child_weight=1.5, n_estimators=7200,\n",
    "                        reg_alpha=0.9, reg_lambda=0.6,\n",
    "                        subsample=0.2,seed=42, silent=1,\n",
    "                        random_state =7)\n",
    "\n",
    "#kfold = KFold(n_splits=10, random_state=7)\n",
    "#results = cross_val_score(model, d1, d2, cv=kfold)\n",
    "#print(\"Accuracy: %.2f%% (%.2f%%)\" % (results.mean()*100, results.std()*100))\n",
    "\n",
    "#d1.shape[0]\n",
    "#d2.shape[0]\n",
    "\n",
    "#test_df = d1.loc[:,~d1.columns.duplicated()]\n",
    "#duplicate_columns = test_df.columns[test_df.columns.duplicated()]\n",
    "#duplicate_columns\n",
    "\n",
    "\n",
    "\n",
    "#parameters = {\n",
    "#    \"n_estimators\": [20, 40, 60, 80, 100],\n",
    "#    \"learning_rate\": [0.01, 0.1, 1, 10]\n",
    "#}\n",
    "\n",
    "#pre_gs_inst = RandomizedSearchCV(model,\n",
    "# param_distributions = parameters,\n",
    "# cv=10,\n",
    "# n_iter = 8,\n",
    "# n_jobs=-1)\n",
    "\n",
    "#pre_gs_inst.fit(X_train, y_train)\n",
    "\n",
    "#print(\"The best score is {}\".format(pre_gs_inst.best_score_))\n",
    "#print(\"The best hyper parameter setting is {}\".format(pre_gs_inst.best_params_))"
   ]
  },
  {
   "cell_type": "markdown",
   "metadata": {},
   "source": [
    "#### LightGBM\n",
    "\n",
    "\n",
    "LightGBM is a gradient boosting framework that uses tree based learning algorithms. It is designed to be distributed\n",
    "\n",
    "Since it is based on decision tree algorithms, it splits the tree leaf wise with the best fit whereas other boosting algorithms split the tree depth wise or level wise rather than leaf-wise. So when growing on the same leaf in Light GBM, the leaf-wise algorithm can reduce more loss than the level-wise algorithm and hence results in much better accuracy which can rarely be achieved by any of the existing boosting algorithms. Also, it is surprisingly very fast. \n",
    "\n",
    "It produces much more complex trees by following leaf wise split approach rather than a level-wise approach which is the main factor in achieving higher accuracy. However, it can sometimes lead to overfitting which can be avoided by setting the max_depth parameter.\n",
    "\n",
    "LightGBM is a great implementation that is similar to XGBoost but varies in a few specific ways, especially in how it creates the trees. It offers some different parameters but most of them are very similar to their XGBoost counterparts. If you use the same parameters, you almost always get a very close score. In most cases, the training will be 2-10 times faster though"
   ]
  },
  {
   "cell_type": "code",
   "execution_count": 101,
   "metadata": {},
   "outputs": [
    {
     "name": "stderr",
     "output_type": "stream",
     "text": [
      "C:\\Users\\User\\Anaconda2\\lib\\site-packages\\sklearn\\utils\\validation.py:578: DataConversionWarning: A column-vector y was passed when a 1d array was expected. Please change the shape of y to (n_samples, ), for example using ravel().\n",
      "  y = column_or_1d(y, warn=True)\n"
     ]
    },
    {
     "name": "stdout",
     "output_type": "stream",
     "text": [
      "LGBMRegressor(bagging_fraction=0.8, bagging_freq=5, bagging_seed=9,\n",
      "       boosting_type='gbdt', class_weight=None, colsample_bytree=1.0,\n",
      "       feature_fraction=0.2319, feature_fraction_seed=9,\n",
      "       importance_type='split', learning_rate=0.05, max_bin=55,\n",
      "       max_depth=-1, min_child_samples=20, min_child_weight=0.001,\n",
      "       min_data_in_leaf=6, min_split_gain=0.0, min_sum_hessian_in_leaf=11,\n",
      "       n_estimators=720, n_jobs=-1, num_leaves=5, objective='regression',\n",
      "       random_state=None, reg_alpha=0.0, reg_lambda=0.0, silent=True,\n",
      "       subsample=1.0, subsample_for_bin=200000, subsample_freq=0)\n"
     ]
    }
   ],
   "source": [
    "# Another type of gradient boosting, LightGBM\n",
    "model = lgb.LGBMRegressor(objective='regression',num_leaves=5,\n",
    "                          learning_rate=0.05, n_estimators=720,\n",
    "                          max_bin = 55, bagging_fraction = 0.8,\n",
    "                          bagging_freq = 5, feature_fraction = 0.2319,\n",
    "                          feature_fraction_seed=9, bagging_seed=9,\n",
    "                          min_data_in_leaf =6, min_sum_hessian_in_leaf = 11)\n",
    "\n",
    "model.fit(X_train, y_train)\n",
    "print(model)"
   ]
  },
  {
   "cell_type": "code",
   "execution_count": 102,
   "metadata": {},
   "outputs": [
    {
     "name": "stdout",
     "output_type": "stream",
     "text": [
      "0.8919662825015208\n",
      "model Root Mean Squared Error on Test data: 0.127047780143\n"
     ]
    }
   ],
   "source": [
    "#LGB, predictions\n",
    "y_pred = model.predict(X_test)\n",
    "\n",
    "print(explained_variance_score(y_pred,y_test))\n",
    "\n",
    "est_train = mean_squared_error(y_pred,y_test)\n",
    "print(\"model Root Mean Squared Error on Test data: {}\".format(np.sqrt(est_train)))"
   ]
  },
  {
   "cell_type": "markdown",
   "metadata": {},
   "source": [
    "#### Lasso Regression\n",
    "\n",
    "Lasso regression is a type of linear regression that uses shrinkage. Shrinkage is where data values are shrunk towards a central point, like the mean. The lasso procedure encourages simple, sparse models (i.e. models with fewer parameters). This particular type of regression is well-suited for models showing high levels of muticollinearity or when you want to automate certain parts of model selection, like variable selection/parameter elimination.\n",
    "\n",
    "The acronym “LASSO” stands for Least Absolute Shrinkage and Selection Operator."
   ]
  },
  {
   "cell_type": "code",
   "execution_count": 104,
   "metadata": {
    "scrolled": true
   },
   "outputs": [
    {
     "name": "stdout",
     "output_type": "stream",
     "text": [
      "Pipeline(memory=None,\n",
      "     steps=[('robustscaler', RobustScaler(copy=True, quantile_range=(25.0, 75.0), with_centering=True,\n",
      "       with_scaling=True)), ('lasso', Lasso(alpha=0.0005, copy_X=True, fit_intercept=True, max_iter=1000,\n",
      "   normalize=False, positive=False, precompute=False, random_state=1,\n",
      "   selection='cyclic', tol=0.0001, warm_start=False))])\n"
     ]
    }
   ],
   "source": [
    "# Lasso model\n",
    "model = make_pipeline(RobustScaler(), Lasso(alpha =0.0005, random_state=1))\n",
    "\n",
    "model.fit(X_train, y_train)\n",
    "print(model)"
   ]
  },
  {
   "cell_type": "code",
   "execution_count": 105,
   "metadata": {},
   "outputs": [
    {
     "name": "stdout",
     "output_type": "stream",
     "text": [
      "0.8857639290263858\n",
      "model Root Mean Squared Error on Test data: 0.129297963254\n"
     ]
    }
   ],
   "source": [
    "#Lasso, predictions\n",
    "y_pred = model.predict(X_test)\n",
    "\n",
    "print(explained_variance_score(y_pred,y_test))\n",
    "\n",
    "est_train = mean_squared_error(y_pred,y_test)\n",
    "print(\"model Root Mean Squared Error on Test data: {}\".format(np.sqrt(est_train)))"
   ]
  },
  {
   "cell_type": "markdown",
   "metadata": {},
   "source": [
    "#### Elastic Net Regularlization Model\n",
    "\n",
    "The elastic net technique solves the regularization problem. For an α strictly between 0 and 1, and a nonnegative λ, elastic net solves the problem. Elastic net is the same as lasso when α = 1. As α shrinks toward 0, elastic net approaches ridge regression. For other values of α, the penalty term Pα(β) interpolates between the L1 norm of β and the squared L2 norm of β.\n",
    "\n",
    "Elastic net regularization method includes both LASSO (L1) and Ridge (L2) regularization methods.\n",
    "\n",
    "Overfitting : The core idea behind machine learning algorithms is to build models that can find the generalised trends within the data. However, if no measures are taken, sometimes the models tend to rote learn the data instead of learning the patterns. During such cases, although the model fits well to the training data ( model yields accurate results when evaluated on training data), however, it evaluated poorly on the test data. This is called overfit.\n",
    "\n",
    "Regularization is used to prevent overfitting the model to training data. This is achieved by slightly perturbing ( adding noise ) the objective function of the model before optimizing it ( optimising a model means to find the model parameters w* such that the argmin /argmax of the objective function is found- in other words, it is to find the global optima of the objective function) . In L1 Regularisation, a noise of magnitude lambda .|w*| is added while in L2 Regularisation, noise of magnitude lambda.|w*|. |w*| is added. where |w*| is the magnitude of the optimal parameter vector.\n",
    "\n",
    "In Elastic Net Regularization, a linear sum of both noises are added."
   ]
  },
  {
   "cell_type": "code",
   "execution_count": 106,
   "metadata": {},
   "outputs": [
    {
     "name": "stdout",
     "output_type": "stream",
     "text": [
      "Pipeline(memory=None,\n",
      "     steps=[('robustscaler', RobustScaler(copy=True, quantile_range=(25.0, 75.0), with_centering=True,\n",
      "       with_scaling=True)), ('elasticnet', ElasticNet(alpha=0.0005, copy_X=True, fit_intercept=True, l1_ratio=0.9,\n",
      "      max_iter=1000, normalize=False, positive=False, precompute=False,\n",
      "      random_state=3, selection='cyclic', tol=0.0001, warm_start=False))])\n"
     ]
    }
   ],
   "source": [
    "#Elastic Net\n",
    "model = make_pipeline(RobustScaler(), ElasticNet(alpha=0.0005, l1_ratio=.9, random_state=3))\n",
    "\n",
    "model.fit(X_train, y_train)\n",
    "print(model)"
   ]
  },
  {
   "cell_type": "code",
   "execution_count": 107,
   "metadata": {},
   "outputs": [
    {
     "name": "stdout",
     "output_type": "stream",
     "text": [
      "0.8856971754175424\n",
      "model Root Mean Squared Error on Test data: 0.129386247672\n"
     ]
    }
   ],
   "source": [
    "#Elastic predictions\n",
    "y_pred = model.predict(X_test)\n",
    "\n",
    "print(explained_variance_score(y_pred,y_test))\n",
    "\n",
    "est_train = mean_squared_error(y_pred,y_test)\n",
    "print(\"model Root Mean Squared Error on Test data: {}\".format(np.sqrt(est_train)))"
   ]
  },
  {
   "cell_type": "markdown",
   "metadata": {},
   "source": [
    "#### Kernel ridge regression (KRR): \n",
    "\n",
    "Combines Ridge Regression - R2 - with the kernel trick. It thus learns a linear function in the space induced by the respective kernel and the data. \n",
    "\n",
    "Ridge regression: Ridge Regression is a technique for analyzing multiple regression data that suffer from multicollinearity.\n",
    "\n",
    "Kernal trick: The kernel trick avoids the explicit mapping that is needed to get linear learning algorithms to learn a nonlinear function or decision boundary. For all and in the input space, certain functions can be expressed as an inner product in another space. The function is often referred to as a kernel or a kernel function."
   ]
  },
  {
   "cell_type": "code",
   "execution_count": 115,
   "metadata": {},
   "outputs": [
    {
     "name": "stdout",
     "output_type": "stream",
     "text": [
      "KernelRidge(alpha=0.6, coef0=2.5, degree=2, gamma=None, kernel='polynomial',\n",
      "      kernel_params=None)\n"
     ]
    }
   ],
   "source": [
    "#KRR\n",
    "model = KernelRidge(alpha=0.6, kernel='polynomial', degree=2, coef0=2.5)\n",
    "\n",
    "model.fit(X_train, y_train)\n",
    "print(model)"
   ]
  },
  {
   "cell_type": "code",
   "execution_count": 116,
   "metadata": {},
   "outputs": [
    {
     "name": "stdout",
     "output_type": "stream",
     "text": [
      "0.8889420243932209\n",
      "model Root Mean Squared Error on Test data: 0.129534778846\n"
     ]
    }
   ],
   "source": [
    "#KRR predictions\n",
    "y_pred = model.predict(X_test)\n",
    "\n",
    "print(explained_variance_score(y_pred,y_test))\n",
    "\n",
    "est_train = mean_squared_error(y_pred,y_test)\n",
    "print(\"model Root Mean Squared Error on Test data: {}\".format(np.sqrt(est_train)))"
   ]
  },
  {
   "cell_type": "markdown",
   "metadata": {},
   "source": [
    "###### End"
   ]
  },
  {
   "cell_type": "code",
   "execution_count": 119,
   "metadata": {},
   "outputs": [],
   "source": [
    "#plot_decision_boundary(model, X_train, y_train)"
   ]
  },
  {
   "cell_type": "code",
   "execution_count": null,
   "metadata": {},
   "outputs": [],
   "source": [
    "#train = pd.DataFrame[:ntrain]\n",
    "#test = all_data[ntrain:]\n",
    "\n",
    "# Setting up Cross-validation with k-folds, set seed = 1\n",
    "#n_folds = 5\n",
    "\n",
    "#def rmse_cv(model):\n",
    "#    kf = KFold(n_folds, shuffle=True, random_state=1).get_n_splits(train.values)\n",
    "#    rmse= np.sqrt(-cross_val_score(model, train.values, y_train, scoring=\"neg_mean_squared_error\", cv = kf))\n",
    "#    return(rmse)"
   ]
  },
  {
   "cell_type": "code",
   "execution_count": null,
   "metadata": {},
   "outputs": [],
   "source": [
    "#score = rmse_cv(model)\n",
    "#print(\"\\nLasso score: {:.4f} ({:.4f})\\n\".format(score.mean(), score.std()))"
   ]
  }
 ],
 "metadata": {
  "kernelspec": {
   "display_name": "Python 2",
   "language": "python",
   "name": "python2"
  },
  "language_info": {
   "codemirror_mode": {
    "name": "ipython",
    "version": 2
   },
   "file_extension": ".py",
   "mimetype": "text/x-python",
   "name": "python",
   "nbconvert_exporter": "python",
   "pygments_lexer": "ipython2",
   "version": "2.7.15"
  }
 },
 "nbformat": 4,
 "nbformat_minor": 2
}
